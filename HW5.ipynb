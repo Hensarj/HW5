{
 "cells": [
  {
   "cell_type": "markdown",
   "source": [
    "Задание №1"
   ],
   "metadata": {
    "collapsed": false
   }
  },
  {
   "cell_type": "code",
   "metadata": {
    "collapsed": true,
    "pycharm": {
     "is_executing": false,
     "name": "#%%\n"
    }
   },
   "source": [
    "import numpy as np\n",
    "def create_array(n):\n",
    "    array_ = np.arange(n-1,-1,-1)\n",
    "    print(array_)\n",
    "create_array(10)"
   ],
   "execution_count": null,
   "outputs": []
  },
  {
   "cell_type": "markdown",
   "source": [
    "Задание №2"
   ],
   "metadata": {
    "collapsed": false
   }
  },
  {
   "cell_type": "code",
   "execution_count": 40,
   "outputs": [
    {
     "name": "stdout",
     "text": [
      "[[14  0  0  0  0  0  0  0  0  0  0  0  0  0  0]\n [ 0 13  0  0  0  0  0  0  0  0  0  0  0  0  0]\n [ 0  0 12  0  0  0  0  0  0  0  0  0  0  0  0]\n [ 0  0  0 11  0  0  0  0  0  0  0  0  0  0  0]\n [ 0  0  0  0 10  0  0  0  0  0  0  0  0  0  0]\n [ 0  0  0  0  0  9  0  0  0  0  0  0  0  0  0]\n [ 0  0  0  0  0  0  8  0  0  0  0  0  0  0  0]\n [ 0  0  0  0  0  0  0  7  0  0  0  0  0  0  0]\n [ 0  0  0  0  0  0  0  0  6  0  0  0  0  0  0]\n [ 0  0  0  0  0  0  0  0  0  5  0  0  0  0  0]\n [ 0  0  0  0  0  0  0  0  0  0  4  0  0  0  0]\n [ 0  0  0  0  0  0  0  0  0  0  0  3  0  0  0]\n [ 0  0  0  0  0  0  0  0  0  0  0  0  2  0  0]\n [ 0  0  0  0  0  0  0  0  0  0  0  0  0  1  0]\n [ 0  0  0  0  0  0  0  0  0  0  0  0  0  0  0]]\nСумма диагонали равна 105\n"
     ],
     "output_type": "stream"
    }
   ],
   "source": [
    "def create_diag_matrix(n):\n",
    "    diag_matrx = np.diag(np.arange(n-1,-1,-1), k=0)\n",
    "    print(diag_matrx)\n",
    "    sum_=0\n",
    "    for i in range(0,n-1):\n",
    "        sum_+=diag_matrx[i][i]\n",
    "    print(\"Сумма диагонали равна {}\".format(sum_)) \n",
    "create_diag_matrix(15)"
   ],
   "metadata": {
    "collapsed": false,
    "pycharm": {
     "name": "#%%\n",
     "is_executing": false
    }
   }
  },
  {
   "cell_type": "markdown",
   "source": [
    "Задание №3"
   ],
   "metadata": {
    "collapsed": false
   }
  },
  {
   "cell_type": "code",
   "execution_count": 138,
   "outputs": [
    {
     "name": "stdout",
     "text": [
      "     movieId                             title       genres\n277      318  Shawshank Redemption, The (1994)  Crime|Drama\n"
     ],
     "output_type": "stream"
    }
   ],
   "source": [
    "import pandas as pd\n",
    "films = pd.read_csv('movies.csv')\n",
    "ratings = pd.read_csv('ratings.csv')\n",
    "filtered_rating = ratings[ratings.rating == 5.0]\n",
    "sorted_rating = filtered_rating.sort_values(by='movieId')\n",
    "value_counts_ = sorted_rating['movieId'].value_counts()\n",
    "most_rated_film_index = (value_counts_.index[0])\n",
    "most_rated_film = films[films['movieId'] == most_rated_film_index]\n",
    "print(most_rated_film)"
   ],
   "metadata": {
    "collapsed": false,
    "pycharm": {
     "name": "#%%\n",
     "is_executing": false
    }
   }
  },
  {
   "cell_type": "markdown",
   "source": [
    "Задание №4"
   ],
   "metadata": {
    "collapsed": false,
    "pycharm": {
     "name": "#%% md\n"
    }
   }
  },
  {
   "cell_type": "code",
   "execution_count": 154,
   "outputs": [
    {
     "name": "stdout",
     "text": [
      "Общее потребление в соответствии с условиями из задания равно 164555\n"
     ],
     "output_type": "stream"
    }
   ],
   "source": [
    "data = pd.read_csv('power.csv')\n",
    "# print (data.head())\n",
    "filtered_quanity = data[(data.quantity>0) & (data.year>2005) & (data.year<2010) & ((data.category==4) | (data.category==12) | (data.category==21)) & ((data.country=='Latvia') | (data.country=='Lithuania')|(data.country=='Estonia'))]\n",
    "print(\"Общее потребление в соответствии с условиями из задания равно {}\".format(int(filtered_quanity['quantity'].sum())))"
   ],
   "metadata": {
    "collapsed": false,
    "pycharm": {
     "name": "#%%\n",
     "is_executing": false
    }
   }
  },
  {
   "cell_type": "markdown",
   "source": [
    "Задание №5"
   ],
   "metadata": {
    "collapsed": false
   }
  },
  {
   "cell_type": "code",
   "execution_count": 161,
   "outputs": [
    {
     "name": "stdout",
     "text": [
      "[ 0.46666667  3.84444444 -5.55555556]\n"
     ],
     "output_type": "stream"
    },
    {
     "data": {
      "text/plain": "True"
     },
     "metadata": {},
     "output_type": "execute_result",
     "execution_count": 161
    }
   ],
   "source": [
    "from numpy import linalg\n",
    "a = np.array( [ [4, 2, 1], [1, 3, 0], [0, 5, 4] ] )\n",
    "b = np.array( [4, 12, -3] )\n",
    "print(linalg.solve(a, b))\n",
    "np.allclose( np.dot(a, linalg.solve(a, b)), b )"
   ],
   "metadata": {
    "collapsed": false,
    "pycharm": {
     "name": "#%%\n",
     "is_executing": false
    }
   }
  }
 ],
 "metadata": {
  "language_info": {
   "codemirror_mode": {
    "name": "ipython",
    "version": 2
   },
   "file_extension": ".py",
   "mimetype": "text/x-python",
   "name": "python",
   "nbconvert_exporter": "python",
   "pygments_lexer": "ipython2",
   "version": "2.7.6"
  },
  "kernelspec": {
   "name": "python3",
   "language": "python",
   "display_name": "Python 3"
  },
  "pycharm": {
   "stem_cell": {
    "cell_type": "raw",
    "source": [],
    "metadata": {
     "collapsed": false
    }
   }
  }
 },
 "nbformat": 4,
 "nbformat_minor": 0
}